{
 "metadata": {
  "language_info": {
   "codemirror_mode": {
    "name": "ipython",
    "version": 3
   },
   "file_extension": ".py",
   "mimetype": "text/x-python",
   "name": "python",
   "nbconvert_exporter": "python",
   "pygments_lexer": "ipython3",
   "version": "3.9.1"
  },
  "orig_nbformat": 2,
  "kernelspec": {
   "name": "python391jvsc74a57bd071d23c1f8c85dab5ca10a7df9e743814890b2991d9ac27ab3e759bde93dc982d",
   "display_name": "Python 3.9.1 64-bit"
  },
  "metadata": {
   "interpreter": {
    "hash": "71d23c1f8c85dab5ca10a7df9e743814890b2991d9ac27ab3e759bde93dc982d"
   }
  }
 },
 "nbformat": 4,
 "nbformat_minor": 2,
 "cells": [
  {
   "cell_type": "markdown",
   "source": [
    "# Purpose\r\n",
    "\r\n",
    "As a newer musical artist, I spend a large amount of time writing lyrics and I want to explore data from my favorite artists to see what makes their music so appealing to me so I can take their insights and use them in my own creations.  One of the core hypotheses I've held is that good music successfully evokes emotion.  While I can speak on a personal level about this, I wanted to see if I could explore the topic from a data perspective as well to see if there are any additional insights they could bring.\r\n",
    "\r\n",
    "The point of this project is to compile lyrics and feature information with songs from an artist I'm drawing inspriation from at the moment (Stand Atlantic) and then analyze that information to see what commonalities there may be between records."
   ],
   "metadata": {}
  },
  {
   "cell_type": "code",
   "execution_count": 30,
   "source": [
    "#Start with importing all relevant modules\r\n",
    "#Modules to work with the data and clean it\r\n",
    "import pandas as pd\r\n",
    "import string\r\n",
    "\r\n",
    "#Modules to get Genius data (Artist Name, Song Name, and Lyrics)\r\n",
    "import lyricsgenius as genius\r\n",
    "\r\n",
    "#Modules to get Spotify data using the API (Album Name, Song Features)\r\n",
    "import spotipy\r\n",
    "from spotipy.oauth2 import SpotifyClientCredentials\r\n",
    "import spotipy.util as util"
   ],
   "outputs": [],
   "metadata": {}
  },
  {
   "cell_type": "code",
   "execution_count": 31,
   "source": [
    "#Setting environment variables for the Genius and Spotify APIs\r\n",
    "os.environ[\"GENIUS_ACCESS_TOKEN\"] = \"ASmxe_sHdsWD_y9U8QtHC2aCq1W-SFQnRXhIxEIcwraNMZoUoTFgP-IbwycgEKHn\"\r\n",
    "os.environ[\"SPOTIPY_CLIENT_ID\"] = \"1a1a46f4308b4d0a9e0175ca84f2155e\"\r\n",
    "os.environ[\"SPOTIPY_CLIENT_SECRET\"] = \"c2f80015c6b74173922c8bdb0a784596\""
   ],
   "outputs": [],
   "metadata": {}
  },
  {
   "cell_type": "markdown",
   "source": [
    "## Step 1: Gather Data\r\n",
    "\r\n",
    "This project is starting by pulling the needed information given the artist.  The artist I've selected for this analysis is Stand Atlantic because I listen to them on a very frequent basis (at least daily) and have the most exposure to them at this current point in time."
   ],
   "metadata": {}
  },
  {
   "cell_type": "code",
   "execution_count": 32,
   "source": [
    "#To start the analysis, lets define an artists discography I'd like to examine\r\n",
    "artist = \"Stand Atlantic\"\r\n",
    "\r\n",
    "#Set up the Genius API with the access token \r\n",
    "genius_api = genius.Genius(os.getenv(\"GENIUS_ACCESS_TOKEN\"))\r\n",
    "\r\n",
    "#Create lists for each column for the dataframe\r\n",
    "list_artist = []\r\n",
    "list_title = []\r\n",
    "list_lyrics = []\r\n",
    "\r\n",
    "#Note: I limited to 29 songs because some of the lesser known songs are not in Spotify \r\n",
    "# and that created issues joining the datasets\r\n",
    "genius_data = genius_api.search_artist(artist, max_songs = 29)\r\n",
    "songs = genius_data.songs\r\n",
    "for song in songs:\r\n",
    "    list_lyrics.append(song.lyrics)\r\n",
    "    list_title.append(song.title)\r\n",
    "    list_artist.append(song.artist)\r\n",
    "\r\n",
    "df = pd.DataFrame({'artist':list_artist,'title':list_title,'lyric':list_lyrics})"
   ],
   "outputs": [
    {
     "output_type": "stream",
     "name": "stdout",
     "text": [
      "Searching for songs by Stand Atlantic...\n",
      "\n",
      "Song 1: \"Lavender Bones\"\n",
      "Song 2: \"Skinny Dipping\"\n",
      "Song 3: \"Coffee At Midnight\"\n",
      "Song 4: \"Lost My Cool\"\n",
      "Song 5: \"Jurassic Park\"\n",
      "Song 6: \"Toothpick\"\n",
      "Song 7: \"Hate Me (Sometimes)\"\n",
      "Song 8: \"Sidewinder\"\n",
      "Song 9: \"Chemicals\"\n",
      "Song 10: \"Shh!\"\n",
      "Song 11: \"Drink To Drown\"\n",
      "Song 12: \"Blurry\"\n",
      "Song 13: \"Wavelength\"\n",
      "Song 14: \"Eviligo\"\n",
      "Song 15: \"Bullfrog\"\n",
      "Song 16: \"Your Graduation\"\n",
      "Song 17: \"Cigarette Kiss\"\n",
      "Song 18: \"Like That\"\n",
      "Song 19: \"Push\"\n",
      "Song 20: \"‎deathwish\"\n",
      "Song 21: \"Burn in the Afterthought\"\n",
      "Song 22: \"Mess I Made\"\n",
      "Song 23: \"DWYW\"\n",
      "Song 24: \"Clay\"\n",
      "Song 25: \"Speak Slow\"\n",
      "Song 26: \"Roses\"\n",
      "Song 27: \"Soap\"\n",
      "Song 28: \"MakeDamnSure\"\n",
      "Song 29: \"Silk & Satin\"\n",
      "\n",
      "Reached user-specified song limit (29).\n",
      "Done. Found 29 songs.\n"
     ]
    }
   ],
   "metadata": {}
  },
  {
   "cell_type": "code",
   "execution_count": 33,
   "source": [
    "#Now that I have my basic dataframe, I'm going to get additional information from Spotify's API using spotipy\r\n",
    "spotify = spotipy.Spotify(client_credentials_manager=SpotifyClientCredentials())\r\n",
    "\r\n",
    "#Use a for loop to loop through the songs in my dataframe and get the album name and song id \r\n",
    "# which will be used to get the features\r\n",
    "list_album = []\r\n",
    "list_song_id = []\r\n",
    "\r\n",
    "for song in df[\"title\"]:\r\n",
    "    spotify_song_info = spotify.search(q='artist:' + artist + ' track:' + song, type='track')\r\n",
    "    list_album.append(spotify_song_info[\"tracks\"][\"items\"][0][\"album\"][\"name\"])\r\n",
    "    list_song_id.append(spotify_song_info[\"tracks\"][\"items\"][0][\"id\"])\r\n",
    "\r\n",
    "df['album'] = list_album\r\n",
    "df[\"song_id\"] = list_song_id\r\n",
    "\r\n",
    "#Getting blank lists for all the audio features I want\r\n",
    "list_danceability = []\r\n",
    "list_energy = []\r\n",
    "list_key = []\r\n",
    "list_loudness = []\r\n",
    "list_mode = []\r\n",
    "list_speechiness = []\r\n",
    "list_acousticness = []\r\n",
    "list_instrumentalness = []\r\n",
    "list_liveness = []\r\n",
    "list_valence = []\r\n",
    "list_tempo = []\r\n",
    "list_duration_ms = []\r\n",
    "list_time_signature = []\r\n",
    "\r\n",
    "#Using the song id to get the audio features and putting them in the dataframe\r\n",
    "for spotify_id in df[\"song_id\"]:\r\n",
    "    spotify_song_features = spotify.audio_features(tracks = spotify_id)\r\n",
    "    list_danceability.append(spotify_song_features[0][\"danceability\"])\r\n",
    "    list_energy.append(spotify_song_features[0][\"energy\"])\r\n",
    "    list_key.append(spotify_song_features[0][\"key\"])\r\n",
    "    list_loudness.append(spotify_song_features[0][\"loudness\"])\r\n",
    "    list_mode.append(spotify_song_features[0][\"mode\"])\r\n",
    "    list_speechiness.append(spotify_song_features[0][\"speechiness\"])\r\n",
    "    list_acousticness.append(spotify_song_features[0][\"acousticness\"])\r\n",
    "    list_instrumentalness.append(spotify_song_features[0][\"instrumentalness\"])\r\n",
    "    list_liveness.append(spotify_song_features[0][\"liveness\"])\r\n",
    "    list_valence.append(spotify_song_features[0][\"valence\"])\r\n",
    "    list_tempo.append(spotify_song_features[0][\"tempo\"])\r\n",
    "    list_duration_ms.append(spotify_song_features[0][\"duration_ms\"])\r\n",
    "    list_time_signature.append(spotify_song_features[0][\"time_signature\"])\r\n",
    "\r\n",
    "df['danceability'] = list_danceability\r\n",
    "df['energy'] = list_energy\r\n",
    "df['key'] = list_key\r\n",
    "df['loudness'] = list_loudness\r\n",
    "df['mode'] = list_mode\r\n",
    "df['speechiness'] = list_speechiness\r\n",
    "df['acousticness'] = list_acousticness\r\n",
    "df['instrumentalness'] = list_instrumentalness\r\n",
    "df['liveness'] = list_liveness\r\n",
    "df['valence'] = list_valence\r\n",
    "df['tempo'] = list_tempo\r\n",
    "df['duration_ms'] = list_duration_ms\r\n",
    "df['time_signature'] = list_time_signature\r\n",
    "\r\n",
    "df2 = df"
   ],
   "outputs": [],
   "metadata": {}
  },
  {
   "cell_type": "markdown",
   "source": [
    "## Step 2: Data Cleaning\r\n",
    "\r\n",
    "The lyric data includes some non-lyric information (like markers for the portion of the song that it is currently in).  These will need to be removed from the analysis.  After the data cleaning, I will export the results as a csv to complete the rest of the analysis in R."
   ],
   "metadata": {}
  },
  {
   "cell_type": "code",
   "execution_count": 34,
   "source": [
    "#Clean up the lyrics using some basic string manipulation as suggested by the example project\r\n",
    "df[\"lyric\"] = df[\"lyric\"].str.lower() #make lower case\r\n",
    "df[\"lyric\"] = df[\"lyric\"].str.replace(r\"verse|[1|2|3]|pre-chorus|chorus|bridge|outro|instrumental|intro|guitar|solo\",\"\", regex = \"True\").str.replace(\"[\",\"\", regex = \"True\").str.replace(\"]\",\"\", regex = \"True\") #remove song part identifiers\r\n",
    "df[\"lyric\"] = df[\"lyric\"].str.replace(\"\\n\",\" \", regex = \"True\").str.replace(r\"[^\\w\\d'\\s]+\",\"\", regex = \"True\") #remove newline character and remove other odd characters like parenthesises\r\n",
    "df[\"lyric\"] = df[\"lyric\"].str.strip() #clean up any odd spacing "
   ],
   "outputs": [],
   "metadata": {}
  },
  {
   "cell_type": "code",
   "execution_count": 35,
   "source": [
    "#Final step for the Python portion is to export the data to a csv file for analysis in R\r\n",
    "df.to_csv('music_data.csv',index=False, encoding='utf-8-sig')"
   ],
   "outputs": [],
   "metadata": {}
  }
 ]
}